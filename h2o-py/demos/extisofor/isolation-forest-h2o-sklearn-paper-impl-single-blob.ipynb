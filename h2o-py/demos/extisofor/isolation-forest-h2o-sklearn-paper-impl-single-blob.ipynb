{
 "cells": [
  {
   "cell_type": "markdown",
   "metadata": {},
   "source": [
    "# Comparison of (Extended) Isolation Forest among various implementations\n",
    "## Imlementations by H2O.AI, Sklearn and original paper\n",
    "\n",
    "* IF = Isolation Forest\n",
    "* EIF = Extended Isolation Forest\n",
    "* Ex0 = extension_level parameter = 0. It means that Extended Isolation Forest behave like Isolation Forest\n",
    "* Ex1 = extension_level parameter = 1."
   ]
  },
  {
   "cell_type": "code",
   "execution_count": 1,
   "metadata": {},
   "outputs": [],
   "source": [
    "import sys\n",
    "sys.path.append(\"D:/skola/dip/h2o-3/h2o-py/build\") # path to h2o build\n",
    "sys.path.append(\"D:/skola/dip/eif\") # path to eif_old.py file (git clone https://github.com/sahandha/eif.git)"
   ]
  },
  {
   "cell_type": "code",
   "execution_count": 2,
   "metadata": {},
   "outputs": [
    {
     "name": "stdout",
     "output_type": "stream",
     "text": [
      "versionFromGradle='3.27.0',projectVersion='3.27.0.99999',branch='PUBDEV-7138-extended-isolation-forest',lastCommitHash='140ec63475f7a4b596f3852b81c5e20b8dac35dd',gitDescribe='jenkins-master-4841-59-g140ec63475-dirty',compiledOn='2020-05-12 01:38:32',compiledBy='potte'\n"
     ]
    }
   ],
   "source": [
    "%matplotlib inline\n",
    "import matplotlib.pyplot as plt\n",
    "import numpy as np\n",
    "import pandas as pd\n",
    "import seaborn as sb\n",
    "import eif_old as iso\n",
    "import h2o\n",
    "from h2o.estimators import H2OIsolationForestEstimator\n",
    "from h2o.estimators import H2OExtendedIsolationForestEstimator\n",
    "from sklearn.ensemble import IsolationForest"
   ]
  },
  {
   "cell_type": "markdown",
   "metadata": {},
   "source": [
    "#### Note:\n",
    "This notebook use old implementation of Extended Isolation Forest. The newest implementation is not working yet. Issue opened: https://github.com/sahandha/eif/issues/14\n",
    "\n",
    "It should not affect the results."
   ]
  },
  {
   "cell_type": "code",
   "execution_count": 3,
   "metadata": {},
   "outputs": [
    {
     "name": "stdout",
     "output_type": "stream",
     "text": [
      "Checking whether there is an H2O instance running at http://localhost:54321 ..... not found.\n",
      "Attempting to start a local H2O server...\n",
      "; Java HotSpot(TM) 64-Bit Server VM (build 25.60-b23, mixed mode)\n",
      "  Starting server from D:\\skola\\dip\\h2o-3\\build\\h2o.jar\n",
      "  Ice root: C:\\Users\\potte\\AppData\\Local\\Temp\\tmpr_2yj28j\n",
      "  JVM stdout: C:\\Users\\potte\\AppData\\Local\\Temp\\tmpr_2yj28j\\h2o_potte_started_from_python.out\n",
      "  JVM stderr: C:\\Users\\potte\\AppData\\Local\\Temp\\tmpr_2yj28j\\h2o_potte_started_from_python.err\n",
      "  Server is running at http://127.0.0.1:54321\n",
      "Connecting to H2O server at http://127.0.0.1:54321 ... successful.\n",
      "versionFromGradle='3.27.0',projectVersion='3.27.0.99999',branch='PUBDEV-7138-extended-isolation-forest',lastCommitHash='140ec63475f7a4b596f3852b81c5e20b8dac35dd',gitDescribe='jenkins-master-4841-59-g140ec63475-dirty',compiledOn='2020-05-12 01:38:32',compiledBy='potte'\n"
     ]
    },
    {
     "data": {
      "text/html": [
       "<div style=\"overflow:auto\"><table style=\"width:50%\"><tr><td>H2O cluster uptime:</td>\n",
       "<td>01 secs</td></tr>\n",
       "<tr><td>H2O cluster timezone:</td>\n",
       "<td>Europe/Prague</td></tr>\n",
       "<tr><td>H2O data parsing timezone:</td>\n",
       "<td>UTC</td></tr>\n",
       "<tr><td>H2O cluster version:</td>\n",
       "<td>3.27.0.99999</td></tr>\n",
       "<tr><td>H2O cluster version age:</td>\n",
       "<td>8 hours and 48 minutes </td></tr>\n",
       "<tr><td>H2O cluster name:</td>\n",
       "<td>H2O_from_python_potte_9oqn6j</td></tr>\n",
       "<tr><td>H2O cluster total nodes:</td>\n",
       "<td>1</td></tr>\n",
       "<tr><td>H2O cluster free memory:</td>\n",
       "<td>21.27 Gb</td></tr>\n",
       "<tr><td>H2O cluster total cores:</td>\n",
       "<td>12</td></tr>\n",
       "<tr><td>H2O cluster allowed cores:</td>\n",
       "<td>12</td></tr>\n",
       "<tr><td>H2O cluster status:</td>\n",
       "<td>accepting new members, healthy</td></tr>\n",
       "<tr><td>H2O connection url:</td>\n",
       "<td>http://127.0.0.1:54321</td></tr>\n",
       "<tr><td>H2O connection proxy:</td>\n",
       "<td>{'http': None, 'https': None}</td></tr>\n",
       "<tr><td>H2O internal security:</td>\n",
       "<td>False</td></tr>\n",
       "<tr><td>H2O API Extensions:</td>\n",
       "<td>Amazon S3, Algos, AutoML, Core V3, TargetEncoder, Core V4</td></tr>\n",
       "<tr><td>Python version:</td>\n",
       "<td>3.8.1 final</td></tr></table></div>"
      ],
      "text/plain": [
       "--------------------------  ---------------------------------------------------------\n",
       "H2O cluster uptime:         01 secs\n",
       "H2O cluster timezone:       Europe/Prague\n",
       "H2O data parsing timezone:  UTC\n",
       "H2O cluster version:        3.27.0.99999\n",
       "H2O cluster version age:    8 hours and 48 minutes\n",
       "H2O cluster name:           H2O_from_python_potte_9oqn6j\n",
       "H2O cluster total nodes:    1\n",
       "H2O cluster free memory:    21.27 Gb\n",
       "H2O cluster total cores:    12\n",
       "H2O cluster allowed cores:  12\n",
       "H2O cluster status:         accepting new members, healthy\n",
       "H2O connection url:         http://127.0.0.1:54321\n",
       "H2O connection proxy:       {'http': None, 'https': None}\n",
       "H2O internal security:      False\n",
       "H2O API Extensions:         Amazon S3, Algos, AutoML, Core V3, TargetEncoder, Core V4\n",
       "Python version:             3.8.1 final\n",
       "--------------------------  ---------------------------------------------------------"
      ]
     },
     "metadata": {},
     "output_type": "display_data"
    }
   ],
   "source": [
    "h2o.init()"
   ]
  },
  {
   "cell_type": "markdown",
   "metadata": {},
   "source": [
    "# Single Blob\n",
    "## Generate Data\n",
    "Produce a single blob of 2-D data normally distributed with mean [0,0] and covariance of identity. We also add some outliers manually to the data for testing. "
   ]
  },
  {
   "cell_type": "code",
   "execution_count": 4,
   "metadata": {},
   "outputs": [],
   "source": [
    "mean = [0, 0]\n",
    "cov = [[1, 0], [0, 1]]  # diagonal covariance\n",
    "Nobjs = 500\n",
    "np.random.seed(1)\n",
    "x, y = np.random.multivariate_normal(mean, cov, Nobjs).T\n",
    "#Add manual outlier\n",
    "x[0]=3.3\n",
    "y[0]=3.3\n",
    "X=np.array([x,y]).T"
   ]
  },
  {
   "cell_type": "code",
   "execution_count": 5,
   "metadata": {},
   "outputs": [
    {
     "data": {
      "image/png": "[encoded data removed]",
      "text/plain": [
       "<Figure size 432x432 with 1 Axes>"
      ]
     },
     "metadata": {
      "needs_background": "light"
     },
     "output_type": "display_data"
    }
   ],
   "source": [
    "fig=plt.figure(figsize=(6,6))\n",
    "fig.add_subplot(111)\n",
    "plt.plot(X[:,0],X[:,1],'o')\n",
    "plt.grid(\"off\")\n",
    "plt.axis(\"equal\")\n",
    "plt.xlim([-5,5])\n",
    "plt.ylim([-5,5])\n",
    "plt.xlabel(\"x\")\n",
    "plt.ylabel(\"y\")\n",
    "plt.tick_params(direction='out', length=6, width=2)\n",
    "plt.show()"
   ]
  },
  {
   "cell_type": "markdown",
   "metadata": {},
   "source": [
    "### Create frames for each implementation"
   ]
  },
  {
   "cell_type": "code",
   "execution_count": 6,
   "metadata": {},
   "outputs": [
    {
     "name": "stdout",
     "output_type": "stream",
     "text": [
      "Parse progress: |█████████████████████████████████████████████████████████| 100%\n"
     ]
    },
    {
     "data": {
      "text/html": [
       "<div>\n",
       "<style scoped>\n",
       "    .dataframe tbody tr th:only-of-type {\n",
       "        vertical-align: middle;\n",
       "    }\n",
       "\n",
       "    .dataframe tbody tr th {\n",
       "        vertical-align: top;\n",
       "    }\n",
       "\n",
       "    .dataframe thead th {\n",
       "        text-align: right;\n",
       "    }\n",
       "</style>\n",
       "<table border=\"1\" class=\"dataframe\">\n",
       "  <thead>\n",
       "    <tr style=\"text-align: right;\">\n",
       "      <th></th>\n",
       "      <th>x</th>\n",
       "      <th>y</th>\n",
       "    </tr>\n",
       "  </thead>\n",
       "  <tbody>\n",
       "    <tr>\n",
       "      <th>0</th>\n",
       "      <td>3.300000</td>\n",
       "      <td>3.300000</td>\n",
       "    </tr>\n",
       "    <tr>\n",
       "      <th>1</th>\n",
       "      <td>-0.528172</td>\n",
       "      <td>-1.072969</td>\n",
       "    </tr>\n",
       "    <tr>\n",
       "      <th>2</th>\n",
       "      <td>0.865408</td>\n",
       "      <td>-2.301539</td>\n",
       "    </tr>\n",
       "    <tr>\n",
       "      <th>3</th>\n",
       "      <td>1.744812</td>\n",
       "      <td>-0.761207</td>\n",
       "    </tr>\n",
       "    <tr>\n",
       "      <th>4</th>\n",
       "      <td>0.319039</td>\n",
       "      <td>-0.249370</td>\n",
       "    </tr>\n",
       "  </tbody>\n",
       "</table>\n",
       "</div>"
      ],
      "text/plain": [
       "          x         y\n",
       "0  3.300000  3.300000\n",
       "1 -0.528172 -1.072969\n",
       "2  0.865408 -2.301539\n",
       "3  1.744812 -0.761207\n",
       "4  0.319039 -0.249370"
      ]
     },
     "execution_count": 6,
     "metadata": {},
     "output_type": "execute_result"
    }
   ],
   "source": [
    "# h2o Training Frame\n",
    "hf = h2o.H2OFrame(np.c_[x.ravel(), y.ravel()],column_names = [\"x\", \"y\"])\n",
    "\n",
    "# Pandas Training Frame\n",
    "df = hf.as_data_frame(use_pandas = True)\n",
    "df.columns = [\"x\", \"y\"]\n",
    "\n",
    "# Numpy Training Frame\n",
    "X = np.array([x,y]).T\n",
    "\n",
    "# Output - other data formats are similar\n",
    "df.head()"
   ]
  },
  {
   "cell_type": "markdown",
   "metadata": {},
   "source": [
    "### Train models"
   ]
  },
  {
   "cell_type": "code",
   "execution_count": 7,
   "metadata": {},
   "outputs": [
    {
     "name": "stdout",
     "output_type": "stream",
     "text": [
      "isolationforest Model Build progress: |███████████████████████████████████| 100%\n",
      "extendedisolationforest Model Build progress: |███████████████████████████| 100%\n",
      "extendedisolationforest Model Build progress: |███████████████████████████| 100%\n"
     ]
    },
    {
     "name": "stderr",
     "output_type": "stream",
     "text": [
      "C:\\Users\\potte\\AppData\\Local\\Programs\\Python\\Python38-32\\lib\\site-packages\\sklearn\\ensemble\\_iforest.py:245: FutureWarning: 'behaviour' is deprecated in 0.22 and will be removed in 0.24. You should not pass or set this parameter.\n",
      "  warn(\n"
     ]
    },
    {
     "name": "stdout",
     "output_type": "stream",
     "text": [
      "Sklearn training done\n",
      "Paper model IF training done\n",
      "Paper model EIF training done\n"
     ]
    }
   ],
   "source": [
    "# Models training\n",
    "seed = 1234\n",
    "ntrees = 100\n",
    "\n",
    "# H2O IF\n",
    "IF_h2o = H2OIsolationForestEstimator(model_id = \"isolation_forest.hex\",\n",
    "                                     ntrees = ntrees, seed = seed)\n",
    "IF_h2o.train(training_frame = hf)\n",
    "\n",
    "# H2O EIF -> Ex0\n",
    "EIF_h2o_if = H2OExtendedIsolationForestEstimator(model_id = \"extended_isolation_forest_if.hex\",\n",
    "                                     ntrees = ntrees, seed = seed, extension_level = 0)\n",
    "EIF_h2o_if.train(training_frame = hf)\n",
    "\n",
    "# H2O EIF\n",
    "EIF_h2o = H2OExtendedIsolationForestEstimator(model_id = \"extended_isolation_forest.hex\",\n",
    "                                     ntrees = ntrees, seed = seed, extension_level = 1)\n",
    "EIF_h2o.train(training_frame = hf)\n",
    "\n",
    "# Sklearn\n",
    "IF_sklearn = IsolationForest(random_state = seed, contamination = \"auto\",\n",
    "                    n_estimators = ntrees, behaviour=\"new\")\n",
    "IF_sklearn.fit(df)\n",
    "print(\"Sklearn training done\")\n",
    "\n",
    "# Paper IF\n",
    "IF_paper  = iso.iForest(X, ntrees = ntrees, sample_size = 256, ExtensionLevel=0)\n",
    "print(\"Paper model IF training done\")\n",
    "\n",
    "# Paper EIF\n",
    "EIF_paper  = iso.iForest(X, ntrees = ntrees, sample_size = 256, ExtensionLevel=1)\n",
    "print(\"Paper model EIF training done\")"
   ]
  },
  {
   "cell_type": "markdown",
   "metadata": {},
   "source": [
    "### Create data for map"
   ]
  },
  {
   "cell_type": "code",
   "execution_count": 8,
   "metadata": {},
   "outputs": [
    {
     "name": "stdout",
     "output_type": "stream",
     "text": [
      "Parse progress: |█████████████████████████████████████████████████████████| 100%\n"
     ]
    },
    {
     "data": {
      "text/html": [
       "<div>\n",
       "<style scoped>\n",
       "    .dataframe tbody tr th:only-of-type {\n",
       "        vertical-align: middle;\n",
       "    }\n",
       "\n",
       "    .dataframe tbody tr th {\n",
       "        vertical-align: top;\n",
       "    }\n",
       "\n",
       "    .dataframe thead th {\n",
       "        text-align: right;\n",
       "    }\n",
       "</style>\n",
       "<table border=\"1\" class=\"dataframe\">\n",
       "  <thead>\n",
       "    <tr style=\"text-align: right;\">\n",
       "      <th></th>\n",
       "      <th>x</th>\n",
       "      <th>y</th>\n",
       "    </tr>\n",
       "  </thead>\n",
       "  <tbody>\n",
       "    <tr>\n",
       "      <th>0</th>\n",
       "      <td>-5.000000</td>\n",
       "      <td>-5.0</td>\n",
       "    </tr>\n",
       "    <tr>\n",
       "      <th>1</th>\n",
       "      <td>-4.655172</td>\n",
       "      <td>-5.0</td>\n",
       "    </tr>\n",
       "    <tr>\n",
       "      <th>2</th>\n",
       "      <td>-4.310345</td>\n",
       "      <td>-5.0</td>\n",
       "    </tr>\n",
       "    <tr>\n",
       "      <th>3</th>\n",
       "      <td>-3.965517</td>\n",
       "      <td>-5.0</td>\n",
       "    </tr>\n",
       "    <tr>\n",
       "      <th>4</th>\n",
       "      <td>-3.620690</td>\n",
       "      <td>-5.0</td>\n",
       "    </tr>\n",
       "  </tbody>\n",
       "</table>\n",
       "</div>"
      ],
      "text/plain": [
       "          x    y\n",
       "0 -5.000000 -5.0\n",
       "1 -4.655172 -5.0\n",
       "2 -4.310345 -5.0\n",
       "3 -3.965517 -5.0\n",
       "4 -3.620690 -5.0"
      ]
     },
     "execution_count": 8,
     "metadata": {},
     "output_type": "execute_result"
    }
   ],
   "source": [
    "granularity = 30\n",
    "\n",
    "# Heat map data \n",
    "xx, yy = np.meshgrid(np.linspace(-5., 5., granularity), np.linspace(-5., 5, granularity))\n",
    "\n",
    "# H2O\n",
    "hf_heatmap = h2o.H2OFrame(np.c_[xx.ravel(), yy.ravel()], column_names = [\"x\", \"y\"]) \n",
    "\n",
    "# Pandas\n",
    "df_heatmap = hf_heatmap.as_data_frame(use_pandas=True)\n",
    "\n",
    "# Numpy\n",
    "X_heatmap = np.c_[xx.ravel(), yy.ravel()]\n",
    "\n",
    "# Output - other data formats are similar\n",
    "df_heatmap.head()"
   ]
  },
  {
   "cell_type": "markdown",
   "metadata": {},
   "source": [
    "### Compute anomaly score\n",
    "#### Note:\n",
    "Negative number of H2O mean length will be used and positive value of sklearn anomaly score"
   ]
  },
  {
   "cell_type": "code",
   "execution_count": 9,
   "metadata": {},
   "outputs": [
    {
     "name": "stdout",
     "output_type": "stream",
     "text": [
      "isolationforest prediction progress: |████████████████████████████████████| 100%\n",
      "extendedisolationforest prediction progress: |████████████████████████████| 100%\n",
      "extendedisolationforest prediction progress: |████████████████████████████| 100%\n",
      "Sklearn anomaly scoring done\n",
      "Paper IF anomaly scoring done\n",
      "Paper EIF anomaly scoring done\n"
     ]
    }
   ],
   "source": [
    "# Anomaly score for heatmap data\n",
    "\n",
    "# H2O IF\n",
    "h2o_anomaly_score = IF_h2o.predict(hf_heatmap).cbind(hf_heatmap)\n",
    "h2o_anomaly_score_df = h2o_anomaly_score.as_data_frame(use_pandas=True, header=True)\n",
    "heatmap_h2o_if = np.array(h2o_anomaly_score_df[\"predict\"]).reshape(xx.shape)\n",
    "heatmap_h2o_mean_length_if = -1*np.array(h2o_anomaly_score_df[\"mean_length\"]).reshape(xx.shape)\n",
    "\n",
    "# H2O EIF -> Ex0\n",
    "h2o_anomaly_score_eif_if = EIF_h2o_if.predict(hf_heatmap).cbind(hf_heatmap)\n",
    "h2o_anomaly_score_df_eif_if = h2o_anomaly_score_eif_if.as_data_frame(use_pandas=True, header=True)\n",
    "heatmap_h2o_eif_if = np.array(h2o_anomaly_score_df_eif_if[\"anomaly_score\"]).reshape(xx.shape)\n",
    "heatmap_h2o_mean_length_eif_if = -1*np.array(h2o_anomaly_score_df_eif_if[\"mean_length\"]).reshape(xx.shape)\n",
    "\n",
    "# H2O EIF\n",
    "h2o_anomaly_score_eif = EIF_h2o.predict(hf_heatmap).cbind(hf_heatmap)\n",
    "h2o_anomaly_score_df_eif = h2o_anomaly_score_eif.as_data_frame(use_pandas=True, header=True)\n",
    "heatmap_h2o_eif = np.array(h2o_anomaly_score_df_eif[\"anomaly_score\"]).reshape(xx.shape)\n",
    "heatmap_h2o_mean_length_eif = -1*np.array(h2o_anomaly_score_df_eif[\"mean_length\"]).reshape(xx.shape)\n",
    "\n",
    "# Sklearn\n",
    "sklearn_anomaly_score = abs(IF_sklearn.score_samples(df_heatmap)) # Sklearn gives negative metrict of the same as \n",
    "                                                                 # it is in paper\n",
    "heatmap_sklearn = sklearn_anomaly_score.reshape(xx.shape)\n",
    "print(\"Sklearn anomaly scoring done\")\n",
    "\n",
    "# Paper IF\n",
    "paper_anomaly_score_if = IF_paper.compute_paths(X_heatmap)\n",
    "heatmap_paper_if = paper_anomaly_score_if.reshape(xx.shape)\n",
    "print(\"Paper IF anomaly scoring done\")\n",
    "\n",
    "# Paper EIF\n",
    "paper_anomaly_score_eif = EIF_paper.compute_paths(X_heatmap)\n",
    "heatmap_paper_eif = paper_anomaly_score_eif.reshape(xx.shape)\n",
    "print(\"Paper EIF anomaly scoring done\")"
   ]
  },
  {
   "cell_type": "markdown",
   "metadata": {},
   "source": [
    "### Plot anomaly score\n",
    "\n",
    "* Mean length = Mean path lengt through the forest to separate an observation. \n",
    "\n",
    "H2O plot has a white spots because all colorbars are between [0,1] but h2o has inconsistent anomaly score with other implementations. It can be higher than 1 and lower than 0.\n",
    "\n",
    "Sklear and paper implementation of IF/EIF use anomaly score normalization from the paper. [1] [2]"
   ]
  },
  {
   "cell_type": "code",
   "execution_count": null,
   "metadata": {},
   "outputs": [],
   "source": [
    "f = plt.figure(figsize=(29,24))\n",
    "\n",
    "def plot_heatmap(heatmap_data, subplot, title): \n",
    "\n",
    "    ax1 = f.add_subplot(subplot)\n",
    "    levels = np.linspace(0,1,25, endpoint=True)\n",
    "    v = np.linspace(0, 1, 12, endpoint=True)\n",
    "    v = np.around(v, decimals=1)\n",
    "    CS = ax1.contourf(xx, yy, heatmap_data, levels, cmap=plt.cm.YlOrRd)\n",
    "    cbar = plt.colorbar(CS, ticks=v)\n",
    "    cbar.ax.set_ylabel('Anomaly score', fontsize = 25)\n",
    "    cbar.ax.tick_params(labelsize=15)\n",
    "    ax1.set_xlabel(\"x\", fontsize = 25)\n",
    "    ax1.set_ylabel(\"y\", fontsize = 25)\n",
    "    plt.tick_params(labelsize=30)\n",
    "    plt.scatter(x,y,s=15,c='None',edgecolor='k')\n",
    "    plt.axis(\"equal\")\n",
    "    plt.title(title,  fontsize=32)\n",
    "    \n",
    "plot_heatmap(heatmap_h2o_if, 221, \"H2O IF - normalized mean length\")\n",
    "plot_heatmap(heatmap_sklearn, 222, \"Sklearn Isolation Forest\")\n",
    "plot_heatmap(heatmap_h2o_eif_if, 223, \"H2O - Extended Isolation Forest Ex=0\")\n",
    "plot_heatmap(heatmap_paper_if, 224, \"Paper Isolation Forest\")\n",
    "\n",
    "plt.show()"
   ]
  },
  {
   "cell_type": "code",
   "execution_count": null,
   "metadata": {},
   "outputs": [],
   "source": [
    "f = plt.figure(figsize=(29,24))\n",
    "    \n",
    "plot_heatmap(heatmap_h2o_if, 221, \"H2O IF - normalized mean length\")\n",
    "plot_heatmap(heatmap_h2o_eif_if, 222, \"H2O - Extended Isolation Forest Ex0\")\n",
    "plot_heatmap(heatmap_h2o_eif, 223, \"H2O - Extended Isolation Forest\")\n",
    "plot_heatmap(heatmap_paper_eif, 224, \"Paper Isolation Forest\")\n",
    "\n",
    "plt.show()"
   ]
  },
  {
   "cell_type": "markdown",
   "metadata": {},
   "source": [
    "### Plot also H2O mean length values "
   ]
  },
  {
   "cell_type": "code",
   "execution_count": null,
   "metadata": {},
   "outputs": [],
   "source": [
    "f = plt.figure(figsize=(47,81))\n",
    "\n",
    "def plot_heatmap(heatmap_data, subplot, title): \n",
    "\n",
    "    ax1 = f.add_subplot(subplot)\n",
    "    levels = np.linspace(0,1,25, endpoint=True)\n",
    "    v = np.linspace(0, 1, 12, endpoint=True)\n",
    "    v = np.around(v, decimals=1)\n",
    "    CS = ax1.contourf(xx, yy, heatmap_data, levels, cmap=plt.cm.YlOrRd)\n",
    "    cbar = plt.colorbar(CS, ticks=v)\n",
    "    cbar.ax.set_ylabel('Anomaly score', fontsize = 27)\n",
    "    cbar.ax.tick_params(labelsize=24)\n",
    "    ax1.set_xlabel(\"x\", fontsize = 24)\n",
    "    ax1.set_ylabel(\"y\", fontsize = 24)\n",
    "    plt.tick_params(labelsize=30)\n",
    "    plt.scatter(x,y,s=1,c='None',edgecolor='k')\n",
    "    plt.axis(\"equal\")\n",
    "    plt.title(title,  fontsize=35)\n",
    "    \n",
    "# H2O\n",
    "plot_heatmap(heatmap_h2o_if, 421, \"H2O - normalized mean length\")\n",
    "\n",
    "# H2O - Mean length\n",
    "ax1 = f.add_subplot(422)\n",
    "levels = np.linspace(np.min(heatmap_h2o_mean_length_if), np.max(heatmap_h2o_mean_length_if),50, endpoint=True)\n",
    "v = np.linspace(np.min(heatmap_h2o_mean_length_if), np.max(heatmap_h2o_mean_length_if),12, endpoint=True)\n",
    "v = np.around(v, decimals = 2)\n",
    "CS = ax1.contourf(xx, yy, heatmap_h2o_mean_length_if, levels, cmap=plt.cm.YlOrRd)\n",
    "cbar = plt.colorbar(CS, ticks = v)\n",
    "cbar.ax.set_ylabel('Anomaly score', fontsize = 27)\n",
    "cbar.ax.tick_params(labelsize=24)\n",
    "ax1.set_xlabel(\"x\", fontsize = 24)\n",
    "ax1.set_ylabel(\"y\", fontsize = 24)\n",
    "plt.tick_params(labelsize=30)\n",
    "plt.scatter(x,y,s=1,c='None',edgecolor='k')\n",
    "plt.axis(\"equal\")\n",
    "plt.title(\"H2O - mean length\",  fontsize=35)\n",
    "\n",
    "plot_heatmap(heatmap_h2o_eif_if, 423, \"H2O - Extended Isolation Forest - Ex0\")\n",
    "plot_heatmap(heatmap_sklearn, 424, \"Sklearn Isolation Forest\")\n",
    "plot_heatmap(heatmap_paper_if, 425, \"Paper Isolation Forest\")\n",
    "plot_heatmap(heatmap_h2o_eif, 427, \"H2O - Extended Isolation Forest\")\n",
    "plot_heatmap(heatmap_paper_eif, 428, \"Paper Extended Isolation Foreset\")\n",
    "\n",
    "plt.show()"
   ]
  },
  {
   "cell_type": "code",
   "execution_count": null,
   "metadata": {},
   "outputs": [],
   "source": [
    "hf44 = h2o.H2OFrame([[4,4],[4,-4]], column_names = [\"x\", \"y\"]) \n",
    "\n",
    "predictions44 = IF_h2o.predict(hf44).cbind(hf44)\n",
    "dfp44 = predictions44.as_data_frame(use_pandas=True, header=True)\n",
    "dfp44"
   ]
  },
  {
   "cell_type": "code",
   "execution_count": null,
   "metadata": {},
   "outputs": [],
   "source": [
    "# Paper EIF\n",
    "paper_anomaly_score_eif = EIF_paper.compute_paths([[0,0]])\n",
    "print(paper_anomaly_score_eif)\n",
    "paper_anomaly_score_if = IF_paper.compute_paths([[0,0]])\n",
    "print(paper_anomaly_score_if)\n",
    "# print(\"Paper EIF anomaly scoring done\")"
   ]
  },
  {
   "cell_type": "markdown",
   "metadata": {},
   "source": [
    "### Conclusion\n",
    "\n",
    "H2O implementation has inconsistent anomaly score computation to sklearn or paper. H2O anomaly score is not equally distributed as it is in others. For example point (4,4) and (4,-4) are both anomalies but their score is \n",
    "* (4, 4) - anomaly score = 1.071233, mean length = 3.09\n",
    "* (4,-4) - anomaly score = 0.652055, mean length = 4.62\n",
    "\n",
    "The gap between those two points is too large."
   ]
  },
  {
   "cell_type": "markdown",
   "metadata": {},
   "source": [
    "## References"
   ]
  },
  {
   "cell_type": "markdown",
   "metadata": {},
   "source": [
    "1. Sklearn anomaly score: https://github.com/scikit-learn/scikit-learn/blob/bf24c7e3d6d768dddbfad3c26bb3f23bc82c0a18/sklearn/ensemble/_iforest.py#L463\n",
    "2. Paper EIF anomaly score: https://github.com/sahandha/eif/blob/master/eif_old.py#L130\n",
    "3. Paper EIF implementation: https://github.com/sahandha/eif/\n",
    "4. Sklearn IF documentation: https://scikit-learn.org/stable/modules/generated/sklearn.ensemble.IsolationForest.html#sklearn.ensemble.IsolationForest.score_samples"
   ]
  },
  {
   "cell_type": "code",
   "execution_count": null,
   "metadata": {},
   "outputs": [],
   "source": []
  }
 ],
 "metadata": {
  "kernelspec": {
   "display_name": "Python 3",
   "language": "python",
   "name": "python3"
  },
  "language_info": {
   "codemirror_mode": {
    "name": "ipython",
    "version": 3
   },
   "file_extension": ".py",
   "mimetype": "text/x-python",
   "name": "python",
   "nbconvert_exporter": "python",
   "pygments_lexer": "ipython3",
   "version": "3.8.1"
  }
 },
 "nbformat": 4,
 "nbformat_minor": 2
}
